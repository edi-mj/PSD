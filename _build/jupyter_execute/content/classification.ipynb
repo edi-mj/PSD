{
 "cells": [
  {
   "cell_type": "markdown",
   "metadata": {
    "id": "El7Dv2lqBQSG"
   },
   "source": [
    "# Klasifikasi\n",
    "\n",
    "Bagian ini digunakan untuk melakukan perbandingan akurasi klasifikasi menggunakan Naive Bayes dan Random forest pada dataset original (unbalanced), dataset setelah ADASYN, dan dataset setelah SMOTE."
   ]
  },
  {
   "cell_type": "code",
   "execution_count": 1,
   "metadata": {
    "tags": [
     "remove-output"
    ]
   },
   "outputs": [],
   "source": [
    "# %run data-balancing.ipynb"
   ]
  },
  {
   "cell_type": "markdown",
   "metadata": {
    "id": "N3pbTBE0A-H6"
   },
   "source": [
    "### Function Train dan Evaluasi Model\n",
    "Fungsi ini akan digunakan untuk training, testing, hingga mengukur akurasi model"
   ]
  },
  {
   "cell_type": "code",
   "execution_count": 2,
   "metadata": {
    "id": "fpDIsHvT_7_Z"
   },
   "outputs": [],
   "source": [
    "from sklearn.model_selection import train_test_split\n",
    "from sklearn.metrics import accuracy_score\n",
    "\n",
    "def latih_dan_evaluasi_model(model, X_data, y_data):\n",
    "    \"\"\"\n",
    "    Fungsi untuk membagi data, melatih model, dan mengevaluasi akurasinya.\n",
    "    \"\"\"\n",
    "    X_train, X_test, y_train, y_test = train_test_split(\n",
    "        X_data, y_data, test_size=0.2, random_state=42, stratify=y_data\n",
    "    )\n",
    "\n",
    "    model.fit(X_train, y_train)\n",
    "\n",
    "    y_pred = model.predict(X_test)\n",
    "\n",
    "    accuracy = accuracy_score(y_test, y_pred)\n",
    "    return accuracy"
   ]
  },
  {
   "cell_type": "markdown",
   "metadata": {
    "id": "iYTsdn0gArMk"
   },
   "source": [
    "## Klasifikasi Naive Bayes"
   ]
  },
  {
   "cell_type": "code",
   "execution_count": 3,
   "metadata": {
    "id": "9BU_XQOq7Y0O",
    "outputId": "9d51ceab-dca4-44fa-93c5-69252cb8c531"
   },
   "outputs": [
    {
     "ename": "NameError",
     "evalue": "name 'X' is not defined",
     "output_type": "error",
     "traceback": [
      "\u001b[1;31m---------------------------------------------------------------------------\u001b[0m",
      "\u001b[1;31mNameError\u001b[0m                                 Traceback (most recent call last)",
      "Cell \u001b[1;32mIn[3], line 7\u001b[0m\n\u001b[0;32m      4\u001b[0m naive_bayes_model \u001b[38;5;241m=\u001b[39m GaussianNB()\n\u001b[0;32m      6\u001b[0m \u001b[38;5;66;03m# Evaluasi pada Setiap Dataset\u001b[39;00m\n\u001b[1;32m----> 7\u001b[0m accuracy_original \u001b[38;5;241m=\u001b[39m latih_dan_evaluasi_model(naive_bayes_model, \u001b[43mX\u001b[49m, y)\n\u001b[0;32m      8\u001b[0m accuracy_adasyn \u001b[38;5;241m=\u001b[39m latih_dan_evaluasi_model(naive_bayes_model, X_res_adasyn, y_res_adasyn)\n\u001b[0;32m      9\u001b[0m accuracy_smote \u001b[38;5;241m=\u001b[39m latih_dan_evaluasi_model(naive_bayes_model, X_res_smote, y_res_smote)\n",
      "\u001b[1;31mNameError\u001b[0m: name 'X' is not defined"
     ]
    }
   ],
   "source": [
    "from sklearn.naive_bayes import GaussianNB\n",
    "\n",
    "# Inisialisasi Model\n",
    "naive_bayes_model = GaussianNB()\n",
    "\n",
    "# Evaluasi pada Setiap Dataset\n",
    "accuracy_original = latih_dan_evaluasi_model(naive_bayes_model, X, y)\n",
    "accuracy_adasyn = latih_dan_evaluasi_model(naive_bayes_model, X_res_adasyn, y_res_adasyn)\n",
    "accuracy_smote = latih_dan_evaluasi_model(naive_bayes_model, X_res_smote, y_res_smote)\n",
    "\n",
    "# Tampilkan Hasil Perbandingan Akurasi\n",
    "print(\"--- Perbandingan Akurasi Klasifikasi Naive Bayes ---\")\n",
    "print(f\"Akurasi pada Data Original (Imbalanced): {accuracy_original:.4f}\")\n",
    "print(f\"Akurasi pada Data setelah ADASYN:       {accuracy_adasyn:.4f}\")\n",
    "print(f\"Akurasi pada Data setelah SMOTE:        {accuracy_smote:.4f}\")"
   ]
  },
  {
   "cell_type": "markdown",
   "metadata": {
    "id": "7f0D_ZUnCNwQ"
   },
   "source": [
    "## Klasifikasi Random Forest"
   ]
  },
  {
   "cell_type": "code",
   "execution_count": 31,
   "metadata": {
    "id": "ljw7_V8D7Y0P",
    "outputId": "96c01000-479c-460d-8a8c-372e308d76f1"
   },
   "outputs": [
    {
     "name": "stdout",
     "output_type": "stream",
     "text": [
      "--- Perbandingan Akurasi Klasifikasi Random Forest ---\n",
      "Akurasi pada Data Original (Imbalanced): 0.8676\n",
      "Akurasi pada Data setelah ADASYN:       0.9261\n",
      "Akurasi pada Data setelah SMOTE:        0.9520\n"
     ]
    }
   ],
   "source": [
    "from sklearn.ensemble import RandomForestClassifier\n",
    "\n",
    "# Inisialisasi Model Random Forest\n",
    "random_forest_model = RandomForestClassifier(random_state=42)\n",
    "\n",
    "# Evaluasi pada Setiap Dataset\n",
    "accuracy_original_rf = latih_dan_evaluasi_model(random_forest_model, X, y)\n",
    "accuracy_adasyn_rf = latih_dan_evaluasi_model(random_forest_model, X_res_adasyn, y_res_adasyn)\n",
    "accuracy_smote_rf = latih_dan_evaluasi_model(random_forest_model, X_res_smote, y_res_smote)\n",
    "\n",
    "# Tampilkan Hasil Perbandingan Akurasi\n",
    "print(\"--- Perbandingan Akurasi Klasifikasi Random Forest ---\")\n",
    "print(f\"Akurasi pada Data Original (Imbalanced): {accuracy_original_rf:.4f}\")\n",
    "print(f\"Akurasi pada Data setelah ADASYN:       {accuracy_adasyn_rf:.4f}\")\n",
    "print(f\"Akurasi pada Data setelah SMOTE:        {accuracy_smote_rf:.4f}\")"
   ]
  },
  {
   "cell_type": "markdown",
   "metadata": {
    "id": "r0Sx3WDaCP70"
   },
   "source": [
    "## Klasifikasi Ensemble Bagging\n",
    "Bagian ini akan digunakan untuk menerapkan Ensemble Bagging menggunakan base model Naive Bayes dan Random Forest."
   ]
  },
  {
   "cell_type": "code",
   "execution_count": 32,
   "metadata": {
    "id": "4aBk6algDTCJ"
   },
   "outputs": [],
   "source": [
    "from sklearn.ensemble import BaggingClassifier"
   ]
  },
  {
   "cell_type": "markdown",
   "metadata": {},
   "source": [
    "### Menggunakan base model Naive Bayes"
   ]
  },
  {
   "cell_type": "code",
   "execution_count": 33,
   "metadata": {
    "id": "hIQkDXHq7Y0P",
    "outputId": "eba66d46-d1c9-4c05-fe91-6f31de63aaf4"
   },
   "outputs": [
    {
     "name": "stdout",
     "output_type": "stream",
     "text": [
      "--- Perbandingan Akurasi Klasifikasi Bagging Classifier ---\n",
      "Akurasi pada Data Original (Imbalanced): 0.8971\n",
      "Akurasi pada Data setelah ADASYN:       0.8130\n",
      "Akurasi pada Data setelah SMOTE:        0.8472\n"
     ]
    },
    {
     "name": "stderr",
     "output_type": "stream",
     "text": [
      "c:\\Users\\Muhammad Junaidi\\AppData\\Local\\Programs\\Python\\Python310\\lib\\site-packages\\sklearn\\naive_bayes.py:509: RuntimeWarning: divide by zero encountered in log\n",
      "  jointi = np.log(self.class_prior_[i])\n",
      "c:\\Users\\Muhammad Junaidi\\AppData\\Local\\Programs\\Python\\Python310\\lib\\site-packages\\sklearn\\naive_bayes.py:509: RuntimeWarning: divide by zero encountered in log\n",
      "  jointi = np.log(self.class_prior_[i])\n",
      "c:\\Users\\Muhammad Junaidi\\AppData\\Local\\Programs\\Python\\Python310\\lib\\site-packages\\sklearn\\naive_bayes.py:509: RuntimeWarning: divide by zero encountered in log\n",
      "  jointi = np.log(self.class_prior_[i])\n",
      "c:\\Users\\Muhammad Junaidi\\AppData\\Local\\Programs\\Python\\Python310\\lib\\site-packages\\sklearn\\naive_bayes.py:509: RuntimeWarning: divide by zero encountered in log\n",
      "  jointi = np.log(self.class_prior_[i])\n"
     ]
    }
   ],
   "source": [
    "# Base model\n",
    "naive_bayes_model = GaussianNB()\n",
    "\n",
    "# Inisialisasi Model Bagging Classifier\n",
    "bagging_model = BaggingClassifier(estimator=naive_bayes_model, random_state=42)\n",
    "\n",
    "# Evaluasi pada Setiap Dataset\n",
    "accuracy_original_bagging_nb = latih_dan_evaluasi_model(bagging_model, X, y)\n",
    "accuracy_adasyn_bagging_nb = latih_dan_evaluasi_model(bagging_model, X_res_adasyn, y_res_adasyn)\n",
    "accuracy_smote_bagging_nb = latih_dan_evaluasi_model(bagging_model, X_res_smote, y_res_smote)\n",
    "\n",
    "# Tampilkan Hasil Perbandingan Akurasi\n",
    "print(\"--- Perbandingan Akurasi Klasifikasi Bagging Classifier ---\")\n",
    "print(f\"Akurasi pada Data Original (Imbalanced): {accuracy_original_bagging_nb:.4f}\")\n",
    "print(f\"Akurasi pada Data setelah ADASYN:       {accuracy_adasyn_bagging_nb:.4f}\")\n",
    "print(f\"Akurasi pada Data setelah SMOTE:        {accuracy_smote_bagging_nb:.4f}\")"
   ]
  },
  {
   "cell_type": "markdown",
   "metadata": {},
   "source": [
    "### Menggunakan base model Random Forest"
   ]
  },
  {
   "cell_type": "code",
   "execution_count": 34,
   "metadata": {
    "id": "KEmcvowY7Y0P",
    "outputId": "662a650f-6082-40e4-d783-28967dbf3029"
   },
   "outputs": [
    {
     "name": "stdout",
     "output_type": "stream",
     "text": [
      "--- Perbandingan Akurasi Klasifikasi Bagging Classifier ---\n",
      "Akurasi pada Data Original (Imbalanced): 0.8971\n",
      "Akurasi pada Data setelah ADASYN:       0.9348\n",
      "Akurasi pada Data setelah SMOTE:        0.9563\n"
     ]
    }
   ],
   "source": [
    "# Base model\n",
    "random_forest = RandomForestClassifier(random_state=42)\n",
    "\n",
    "# Inisialisasi Model Bagging Classifier\n",
    "bagging_model = BaggingClassifier(estimator=random_forest, random_state=42)\n",
    "\n",
    "# Evaluasi pada Setiap Dataset\n",
    "accuracy_original_bagging_rf = latih_dan_evaluasi_model(bagging_model, X, y)\n",
    "accuracy_adasyn_bagging_rf = latih_dan_evaluasi_model(bagging_model, X_res_adasyn, y_res_adasyn)\n",
    "accuracy_smote_bagging_rf = latih_dan_evaluasi_model(bagging_model, X_res_smote, y_res_smote)\n",
    "\n",
    "# Tampilkan Hasil Perbandingan Akurasi\n",
    "print(\"--- Perbandingan Akurasi Klasifikasi Bagging Classifier ---\")\n",
    "print(f\"Akurasi pada Data Original (Imbalanced): {accuracy_original_bagging_rf:.4f}\")\n",
    "print(f\"Akurasi pada Data setelah ADASYN:       {accuracy_adasyn_bagging_rf:.4f}\")\n",
    "print(f\"Akurasi pada Data setelah SMOTE:        {accuracy_smote_bagging_rf:.4f}\")"
   ]
  },
  {
   "cell_type": "markdown",
   "metadata": {},
   "source": [
    "## Perbandingan Akurasi Klasifikasi"
   ]
  },
  {
   "cell_type": "code",
   "execution_count": 35,
   "metadata": {},
   "outputs": [
    {
     "data": {
      "image/png": "[encoded data removed]",
      "text/plain": [
       "<Figure size 1200x700 with 1 Axes>"
      ]
     },
     "metadata": {},
     "output_type": "display_data"
    }
   ],
   "source": [
    "data = {\n",
    "    'Model': ['Naive Bayes', 'Naive Bayes', 'Naive Bayes',\n",
    "              'Random Forest', 'Random Forest', 'Random Forest',\n",
    "              'Bagging (NB)', 'Bagging (NB)', 'Bagging (NB)',\n",
    "              'Bagging (RF)', 'Bagging (RF)', 'Bagging (RF)'],\n",
    "    'Dataset': ['Original', 'ADASYN', 'SMOTE',\n",
    "                'Original', 'ADASYN', 'SMOTE',\n",
    "                'Original', 'ADASYN', 'SMOTE',\n",
    "                'Original', 'ADASYN', 'SMOTE'],\n",
    "    'Accuracy': [accuracy_original, accuracy_adasyn, accuracy_smote,\n",
    "                 accuracy_original_rf, accuracy_adasyn_rf, accuracy_smote_rf,\n",
    "                 accuracy_original_bagging_nb, accuracy_adasyn_bagging_nb, accuracy_smote_bagging_nb,\n",
    "                 accuracy_original_bagging_rf, accuracy_adasyn_bagging_rf, accuracy_smote_bagging_rf] # Assuming the last bagging results are for RF base\n",
    "}\n",
    "\n",
    "df_accuracy = pd.DataFrame(data)\n",
    "\n",
    "plt.figure(figsize=(12, 7))\n",
    "sns.barplot(x='Model', y='Accuracy', hue='Dataset', data=df_accuracy, palette='viridis')\n",
    "plt.title('Perbandingan Akurasi Model pada Dataset Original, ADASYN, dan SMOTE')\n",
    "plt.ylabel('Akurasi')\n",
    "plt.ylim(0, 1)\n",
    "plt.legend(title='Dataset')\n",
    "plt.grid(axis='y', linestyle='--')\n",
    "plt.show()"
   ]
  },
  {
   "cell_type": "code",
   "execution_count": 36,
   "metadata": {},
   "outputs": [
    {
     "name": "stdout",
     "output_type": "stream",
     "text": [
      "--- Perbandingan Akurasi Klasifikasi Naive Bayes ---\n",
      "Akurasi pada Data Original (Imbalanced): 0.7941\n",
      "Akurasi pada Data setelah ADASYN:       0.8130\n",
      "Akurasi pada Data setelah SMOTE:        0.8428\n",
      "\n",
      "--- Perbandingan Akurasi Klasifikasi Random Forest ---\n",
      "Akurasi pada Data Original (Imbalanced): 0.8676\n",
      "Akurasi pada Data setelah ADASYN:       0.9261\n",
      "Akurasi pada Data setelah SMOTE:        0.9520\n",
      "\n",
      "--- Perbandingan Akurasi Klasifikasi Bagging Classifier (Naive Bayes) ---\n",
      "Akurasi pada Data Original (Imbalanced): 0.8971\n",
      "Akurasi pada Data setelah ADASYN:       0.8130\n",
      "Akurasi pada Data setelah SMOTE:        0.8472\n",
      "\n",
      "--- Perbandingan Akurasi Klasifikasi Bagging Classifier (Random Forest) ---\n",
      "Akurasi pada Data Original (Imbalanced): 0.8971\n",
      "Akurasi pada Data setelah ADASYN:       0.9348\n",
      "Akurasi pada Data setelah SMOTE:        0.9563\n"
     ]
    }
   ],
   "source": [
    "# Tampilkan Hasil Perbandingan Akurasi\n",
    "print(\"--- Perbandingan Akurasi Klasifikasi Naive Bayes ---\")\n",
    "print(f\"Akurasi pada Data Original (Imbalanced): {accuracy_original:.4f}\")\n",
    "print(f\"Akurasi pada Data setelah ADASYN:       {accuracy_adasyn:.4f}\")\n",
    "print(f\"Akurasi pada Data setelah SMOTE:        {accuracy_smote:.4f}\")\n",
    "\n",
    "# Tampilkan Hasil Perbandingan Akurasi\n",
    "print(\"\\n--- Perbandingan Akurasi Klasifikasi Random Forest ---\")\n",
    "print(f\"Akurasi pada Data Original (Imbalanced): {accuracy_original_rf:.4f}\")\n",
    "print(f\"Akurasi pada Data setelah ADASYN:       {accuracy_adasyn_rf:.4f}\")\n",
    "print(f\"Akurasi pada Data setelah SMOTE:        {accuracy_smote_rf:.4f}\")\n",
    "\n",
    "# Tampilkan Hasil Perbandingan Akurasi\n",
    "print(\"\\n--- Perbandingan Akurasi Klasifikasi Bagging Classifier (Naive Bayes) ---\")\n",
    "print(f\"Akurasi pada Data Original (Imbalanced): {accuracy_original_bagging_nb:.4f}\")\n",
    "print(f\"Akurasi pada Data setelah ADASYN:       {accuracy_adasyn_bagging_nb:.4f}\")\n",
    "print(f\"Akurasi pada Data setelah SMOTE:        {accuracy_smote_bagging_nb:.4f}\")\n",
    "\n",
    "\n",
    "# Tampilkan Hasil Perbandingan Akurasi\n",
    "print(\"\\n--- Perbandingan Akurasi Klasifikasi Bagging Classifier (Random Forest) ---\")\n",
    "print(f\"Akurasi pada Data Original (Imbalanced): {accuracy_original_bagging_rf:.4f}\")\n",
    "print(f\"Akurasi pada Data setelah ADASYN:       {accuracy_adasyn_bagging_rf:.4f}\")\n",
    "print(f\"Akurasi pada Data setelah SMOTE:        {accuracy_smote_bagging_rf:.4f}\")"
   ]
  },
  {
   "cell_type": "markdown",
   "metadata": {},
   "source": [
    "## Kesimpulan\n",
    "\n",
    "Berdasarkan hasil klasifikasi menggunakan `Naive Bayes`, `Random Forest`, dan `Bagging Classifier` pada dataset `Ecoli` sebelum dan sesudah balancing dengan `ADASYN` dan `SMOTE`, dapat disimpulkan beberapa hal:\n",
    "\n",
    "**Naive Bayes:**\n",
    "Model Naive Bayes menunjukkan peningkatan akurasi setelah data diseimbangkan, terutama dengan SMOTE.\n",
    "\n",
    "**Random Forest:**\n",
    "Random Forest memberikan akurasi yang lebih tinggi dibandingkan Naive Bayes pada semua kondisi. Balancing data dengan ADASYN dan SMOTE secara signifikan meningkatkan performa Random Forest.\n",
    "\n",
    "**Bagging Classifier (dengan base model Naive Bayes):**\n",
    "Bagging dengan Naive Bayes menunjukkan akurasi yang baik pada data original, namun peningkatannya setelah balancing tidak sebesar Random Forest.\n",
    "\n",
    "**Bagging Classifier (dengan base model Random Forest):**\n",
    "Bagging dengan Random Forest sebagai base model juga menunjukkan peningkatan akurasi yang signifikan setelah balancing, mendekati performa Random Forest tanpa bagging.\n",
    "\n",
    "**Klasifikasi menggunakan dan tanpa Bagging pada Random Forest** menghasilkan nilai akurasi yang sama disebabkan Random Forest sendiri adalah algoritma ensemble yang secara internal menggunakan prinsip bagging.\n",
    "\n",
    "**Kesimpulan Akhir:**\n",
    "Secara umum, balancing data menggunakan ADASYN dan SMOTE berhasil meningkatkan akurasi klasifikasi pada dataset Ecoli yang tidak seimbang. Model Random Forest menunjukkan performa terbaik di antara model yang diuji, baik sebelum maupun sesudah balancing. Penerapan Bagging Classifier dengan Random Forest sebagai base model juga memberikan hasil yang baik, meskipun tidak selalu lebih tinggi dari Random Forest tunggal setelah balancing. SMOTE tampaknya memberikan sedikit keunggulan dalam meningkatkan akurasi dibandingkan ADASYN pada kasus ini."
   ]
  }
 ],
 "metadata": {
  "colab": {
   "provenance": [],
   "toc_visible": true
  },
  "kernelspec": {
   "display_name": "Python 3",
   "name": "python3"
  },
  "language_info": {
   "codemirror_mode": {
    "name": "ipython",
    "version": 3
   },
   "file_extension": ".py",
   "mimetype": "text/x-python",
   "name": "python",
   "nbconvert_exporter": "python",
   "pygments_lexer": "ipython3",
   "version": "3.10.6"
  }
 },
 "nbformat": 4,
 "nbformat_minor": 0
}