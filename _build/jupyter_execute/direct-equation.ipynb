{
 "cells": [
  {
   "cell_type": "markdown",
   "metadata": {},
   "source": [
    "# Linear Regression - Direct Equation"
   ]
  },
  {
   "cell_type": "code",
   "execution_count": 1,
   "metadata": {
    "id": "ZSLdDvUrvErp"
   },
   "outputs": [],
   "source": [
    "import numpy as np\n",
    "import matplotlib.pyplot as plt"
   ]
  },
  {
   "cell_type": "code",
   "execution_count": 2,
   "metadata": {
    "id": "kP8TNNztvt6f"
   },
   "outputs": [],
   "source": [
    "dataFeature = np.array([1, 2, 4, 3, 5])\n",
    "dataTarget = np.array([1, 3, 3, 2, 5])"
   ]
  },
  {
   "cell_type": "code",
   "execution_count": 3,
   "metadata": {
    "id": "KNQ1s8dLv-qd"
   },
   "outputs": [
    {
     "name": "stdout",
     "output_type": "stream",
     "text": [
      "Mean X: 3.0, Mean Y: 2.8\n"
     ]
    }
   ],
   "source": [
    "meanX = np.mean(dataFeature)\n",
    "meanY = np.mean(dataTarget)\n",
    "print(f\"Mean X: {meanX}, Mean Y: {meanY}\")"
   ]
  },
  {
   "cell_type": "code",
   "execution_count": 4,
   "metadata": {
    "colab": {
     "background_save": true
    },
    "id": "y3VeP_ktwXi0"
   },
   "outputs": [
    {
     "name": "stdout",
     "output_type": "stream",
     "text": [
      "2.5\n"
     ]
    }
   ],
   "source": [
    "varX = np.var(dataFeature, ddof=1)\n",
    "print(varX)"
   ]
  },
  {
   "cell_type": "code",
   "execution_count": 5,
   "metadata": {
    "colab": {
     "background_save": true
    },
    "id": "FmNlUxVswkFa"
   },
   "outputs": [
    {
     "name": "stdout",
     "output_type": "stream",
     "text": [
      "[[2.5 2. ]\n",
      " [2.  2.2]]\n",
      "2.0\n"
     ]
    }
   ],
   "source": [
    "covXY = np.cov(dataFeature, dataTarget)\n",
    "print(covXY)\n",
    "dataCov = covXY[0, 1]\n",
    "print(dataCov)"
   ]
  },
  {
   "cell_type": "code",
   "execution_count": 6,
   "metadata": {
    "colab": {
     "background_save": true
    },
    "id": "SqwmuhRjxGV2"
   },
   "outputs": [
    {
     "name": "stdout",
     "output_type": "stream",
     "text": [
      "w0 = 0.39999999999999947, w1 = 0.8\n"
     ]
    }
   ],
   "source": [
    "w1 = dataCov/varX\n",
    "w0 = meanY-w1*meanX\n",
    "\n",
    "print(f\"w0 = {w0}, w1 = {w1}\")"
   ]
  },
  {
   "cell_type": "code",
   "execution_count": 7,
   "metadata": {
    "id": "L5l1Ull_xrTH"
   },
   "outputs": [
    {
     "data": {
      "text/plain": [
       "[<matplotlib.lines.Line2D at 0x1d8eba7c2b0>]"
      ]
     },
     "execution_count": 7,
     "metadata": {},
     "output_type": "execute_result"
    },
    {
     "data": {
      "image/png": "[encoded data removed]",
      "text/plain": [
       "<Figure size 640x480 with 1 Axes>"
      ]
     },
     "metadata": {},
     "output_type": "display_data"
    }
   ],
   "source": [
    "plt.plot(dataFeature, dataTarget, 'o')\n",
    "dataX = np.linspace(1, 5, 20)\n",
    "dataY = w0+w1*dataX\n",
    "plt.plot(dataX, dataY, 'r')\n",
    "dataX = 3.7\n",
    "dataY = w0+w1*dataX\n",
    "plt.plot(dataX, dataY, 'go')"
   ]
  }
 ],
 "metadata": {
  "colab": {
   "authorship_tag": "ABX9TyM32eG/DCV1kUmLDpR/HDv2",
   "name": "",
   "version": ""
  },
  "kernelspec": {
   "display_name": "venv",
   "language": "python",
   "name": "python3"
  },
  "language_info": {
   "codemirror_mode": {
    "name": "ipython",
    "version": 3
   },
   "file_extension": ".py",
   "mimetype": "text/x-python",
   "name": "python",
   "nbconvert_exporter": "python",
   "pygments_lexer": "ipython3",
   "version": "3.10.6"
  }
 },
 "nbformat": 4,
 "nbformat_minor": 0
}